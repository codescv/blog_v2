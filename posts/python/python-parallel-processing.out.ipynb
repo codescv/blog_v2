{
  "cells": [
    {
      "cell_type": "markdown",
      "metadata": {},
      "source": [
        "# Python Parellel Processing\n",
        "\n",
        "I came across this function called `parallel` in\n",
        "[fastai](https://github.com/fastai/fastai), and it seems very\n",
        "interesting.\n",
        "\n",
        "[![](https://colab.research.google.com/assets/colab-badge.svg)](https://colab.research.google.com/github/codescv/blog_v2/blob/main/posts/python/python-parallel-processing.ipynb)\n",
        "\n",
        "# A Simple Example"
      ],
      "id": "b38bd0c0-7dc4-4fc2-a12d-ce1677bf3a0d"
    },
    {
      "cell_type": "code",
      "execution_count": null,
      "metadata": {},
      "outputs": [],
      "source": [
        "from fastcore.all import parallel"
      ],
      "id": "fdf2cdc8-7bcc-4be9-abee-f698e4c360b8"
    },
    {
      "cell_type": "code",
      "execution_count": null,
      "metadata": {},
      "outputs": [],
      "source": [
        "from nbdev.showdoc import doc"
      ],
      "id": "1792d481-3842-4244-afa7-79fd17dfd3ab"
    },
    {
      "cell_type": "code",
      "execution_count": 11,
      "metadata": {},
      "outputs": [
        {
          "output_type": "display_data",
          "metadata": {},
          "data": {
            "text/html": [
              "<h4 id=\"parallel\" class=\"doc_header\"><code>parallel</code><a href=\"https://github.com/fastai/fastcore/tree/master/fastcore/utils.py#L715\" class=\"source_link\" style=\"float:right\">[source]</a></h4><blockquote><p><code>parallel</code>(<strong><code>f</code></strong>, <strong><code>items</code></strong>, <strong>*<code>args</code></strong>, <strong><code>n_workers</code></strong>=<em><code>8</code></em>, <strong><code>total</code></strong>=<em><code>None</code></em>, <strong><code>progress</code></strong>=<em><code>None</code></em>, <strong><code>pause</code></strong>=<em><code>0</code></em>, <strong>**<code>kwargs</code></strong>)</p>\n",
              "</blockquote>\n",
              "<p>Applies <code>func</code> in parallel to <code>items</code>, using <code>n_workers</code></p>\n",
              "<p><a href=\"https://fastcore.fast.ai/utils#parallel\" target=\"_blank\" rel=\"noreferrer noopener\">Show in docs</a></p>"
            ]
          }
        }
      ],
      "source": [
        "doc(parallel)"
      ],
      "id": "8d67db5d-6538-4881-81e3-4db62c25bea3"
    },
    {
      "cell_type": "markdown",
      "metadata": {},
      "source": [
        "As the documentation states, the `parallel` function can run any python\n",
        "function `f` with `items` using multiple workers, and collect the\n",
        "results.\n",
        "\n",
        "Let’s try a simple examples:"
      ],
      "id": "1b0713f3-614f-4905-b88c-74eb86b31d71"
    },
    {
      "cell_type": "code",
      "execution_count": 29,
      "metadata": {},
      "outputs": [],
      "source": [
        "import math\n",
        "import time\n",
        "\n",
        "def f(x):\n",
        "  time.sleep(1)\n",
        "  return x * 2\n",
        "\n",
        "numbers = list(range(10))"
      ],
      "id": "6d122538-a1fe-4772-bab8-101551bff593"
    },
    {
      "cell_type": "code",
      "execution_count": 30,
      "metadata": {},
      "outputs": [
        {
          "output_type": "stream",
          "name": "stdout",
          "text": [
            "\n",
            "CPU times: user 0 ns, sys: 0 ns, total: 0 ns\n",
            "Wall time: 10 s"
          ]
        }
      ],
      "source": [
        "%%time\n",
        "\n",
        "list(map(f, numbers))\n",
        "print()"
      ],
      "id": "ca40cfd9-8af4-427d-9b04-596b01978264"
    },
    {
      "cell_type": "code",
      "execution_count": 31,
      "metadata": {},
      "outputs": [
        {
          "output_type": "display_data",
          "metadata": {},
          "data": {
            "text/html": []
          }
        },
        {
          "output_type": "stream",
          "name": "stdout",
          "text": [
            "\n",
            "CPU times: user 32 ms, sys: 52 ms, total: 84 ms\n",
            "Wall time: 2.08 s"
          ]
        }
      ],
      "source": [
        "%%time\n",
        "\n",
        "list(parallel(f, numbers))\n",
        "print()"
      ],
      "id": "4e9ce271-fb87-42e5-8b7b-139dc7c5be68"
    },
    {
      "cell_type": "markdown",
      "metadata": {},
      "source": [
        "The function `f` we have in this example is very simple: it sleeps for\n",
        "one second and then returns `x*2`. When executed in serial, it takes 10\n",
        "seconds which is exactly what we expect. When using more workers(8 by\n",
        "default), it takes only 2 seconds.\n",
        "\n",
        "# Dig into the Implementation\n",
        "\n",
        "Let’s see how `parallel` is implemented:"
      ],
      "id": "9e84723b-cf97-4faf-a069-0180023b260e"
    },
    {
      "cell_type": "code",
      "execution_count": 32,
      "metadata": {},
      "outputs": [
        {
          "output_type": "display_data",
          "metadata": {},
          "data": {
            "text/html": [
              "<pre><span class=\"ansi-red-fg\">Signature:</span>\n",
              "parallel<span class=\"ansi-blue-fg\">(</span>\n",
              "    f<span class=\"ansi-blue-fg\">,</span>\n",
              "    items<span class=\"ansi-blue-fg\">,</span>\n",
              "    <span class=\"ansi-blue-fg\">*</span>args<span class=\"ansi-blue-fg\">,</span>\n",
              "    n_workers<span class=\"ansi-blue-fg\">=</span><span class=\"ansi-cyan-fg\">8</span><span class=\"ansi-blue-fg\">,</span>\n",
              "    total<span class=\"ansi-blue-fg\">=</span><span class=\"ansi-green-fg\">None</span><span class=\"ansi-blue-fg\">,</span>\n",
              "    progress<span class=\"ansi-blue-fg\">=</span><span class=\"ansi-green-fg\">None</span><span class=\"ansi-blue-fg\">,</span>\n",
              "    pause<span class=\"ansi-blue-fg\">=</span><span class=\"ansi-cyan-fg\">0</span><span class=\"ansi-blue-fg\">,</span>\n",
              "    <span class=\"ansi-blue-fg\">**</span>kwargs<span class=\"ansi-blue-fg\">,</span>\n",
              "<span class=\"ansi-blue-fg\">)</span>\n",
              "<span class=\"ansi-red-fg\">Source:</span>   \n",
              "<span class=\"ansi-green-fg\">def</span> parallel<span class=\"ansi-blue-fg\">(</span>f<span class=\"ansi-blue-fg\">,</span> items<span class=\"ansi-blue-fg\">,</span> <span class=\"ansi-blue-fg\">*</span>args<span class=\"ansi-blue-fg\">,</span> n_workers<span class=\"ansi-blue-fg\">=</span>defaults<span class=\"ansi-blue-fg\">.</span>cpus<span class=\"ansi-blue-fg\">,</span> total<span class=\"ansi-blue-fg\">=</span><span class=\"ansi-green-fg\">None</span><span class=\"ansi-blue-fg\">,</span> progress<span class=\"ansi-blue-fg\">=</span><span class=\"ansi-green-fg\">None</span><span class=\"ansi-blue-fg\">,</span> pause<span class=\"ansi-blue-fg\">=</span><span class=\"ansi-cyan-fg\">0</span><span class=\"ansi-blue-fg\">,</span> <span class=\"ansi-blue-fg\">**</span>kwargs<span class=\"ansi-blue-fg\">)</span><span class=\"ansi-blue-fg\">:</span>\n",
              "    <span class=\"ansi-blue-fg\">\"Applies `func` in parallel to `items`, using `n_workers`\"</span>\n",
              "    <span class=\"ansi-green-fg\">if</span> progress <span class=\"ansi-green-fg\">is</span> <span class=\"ansi-green-fg\">None</span><span class=\"ansi-blue-fg\">:</span> progress <span class=\"ansi-blue-fg\">=</span> progress_bar <span class=\"ansi-green-fg\">is</span> <span class=\"ansi-green-fg\">not</span> <span class=\"ansi-green-fg\">None</span>\n",
              "    <span class=\"ansi-green-fg\">with</span> ProcessPoolExecutor<span class=\"ansi-blue-fg\">(</span>n_workers<span class=\"ansi-blue-fg\">,</span> pause<span class=\"ansi-blue-fg\">=</span>pause<span class=\"ansi-blue-fg\">)</span> <span class=\"ansi-green-fg\">as</span> ex<span class=\"ansi-blue-fg\">:</span>\n",
              "        r <span class=\"ansi-blue-fg\">=</span> ex<span class=\"ansi-blue-fg\">.</span>map<span class=\"ansi-blue-fg\">(</span>f<span class=\"ansi-blue-fg\">,</span>items<span class=\"ansi-blue-fg\">,</span> <span class=\"ansi-blue-fg\">*</span>args<span class=\"ansi-blue-fg\">,</span> <span class=\"ansi-blue-fg\">**</span>kwargs<span class=\"ansi-blue-fg\">)</span>\n",
              "        <span class=\"ansi-green-fg\">if</span> progress<span class=\"ansi-blue-fg\">:</span>\n",
              "            <span class=\"ansi-green-fg\">if</span> total <span class=\"ansi-green-fg\">is</span> <span class=\"ansi-green-fg\">None</span><span class=\"ansi-blue-fg\">:</span> total <span class=\"ansi-blue-fg\">=</span> len<span class=\"ansi-blue-fg\">(</span>items<span class=\"ansi-blue-fg\">)</span>\n",
              "            r <span class=\"ansi-blue-fg\">=</span> progress_bar<span class=\"ansi-blue-fg\">(</span>r<span class=\"ansi-blue-fg\">,</span> total<span class=\"ansi-blue-fg\">=</span>total<span class=\"ansi-blue-fg\">,</span> leave<span class=\"ansi-blue-fg\">=</span><span class=\"ansi-green-fg\">False</span><span class=\"ansi-blue-fg\">)</span>\n",
              "        <span class=\"ansi-green-fg\">return</span> L<span class=\"ansi-blue-fg\">(</span>r<span class=\"ansi-blue-fg\">)</span>\n",
              "<span class=\"ansi-red-fg\">File:</span>      /opt/conda/lib/python3.7/site-packages/fastcore/utils.py\n",
              "<span class=\"ansi-red-fg\">Type:</span>      function\n",
              "</pre>"
            ]
          }
        }
      ],
      "source": [
        "parallel??"
      ],
      "id": "42dacdac-c6ca-4aed-ba75-fe3b4fd9a59d"
    },
    {
      "cell_type": "code",
      "execution_count": 34,
      "metadata": {},
      "outputs": [
        {
          "output_type": "display_data",
          "metadata": {},
          "data": {
            "text/html": [
              "<pre><span class=\"ansi-red-fg\">Init signature:</span>\n",
              "ProcessPoolExecutor<span class=\"ansi-blue-fg\">(</span>\n",
              "    max_workers<span class=\"ansi-blue-fg\">=</span><span class=\"ansi-cyan-fg\">8</span><span class=\"ansi-blue-fg\">,</span>\n",
              "    on_exc<span class=\"ansi-blue-fg\">=</span><span class=\"ansi-blue-fg\">&lt;</span>built<span class=\"ansi-blue-fg\">-</span><span class=\"ansi-green-fg\">in</span> function print<span class=\"ansi-blue-fg\">&gt;</span><span class=\"ansi-blue-fg\">,</span>\n",
              "    pause<span class=\"ansi-blue-fg\">=</span><span class=\"ansi-cyan-fg\">0</span><span class=\"ansi-blue-fg\">,</span>\n",
              "    mp_context<span class=\"ansi-blue-fg\">=</span><span class=\"ansi-green-fg\">None</span><span class=\"ansi-blue-fg\">,</span>\n",
              "    initializer<span class=\"ansi-blue-fg\">=</span><span class=\"ansi-green-fg\">None</span><span class=\"ansi-blue-fg\">,</span>\n",
              "    initargs<span class=\"ansi-blue-fg\">=</span><span class=\"ansi-blue-fg\">(</span><span class=\"ansi-blue-fg\">)</span><span class=\"ansi-blue-fg\">,</span>\n",
              "<span class=\"ansi-blue-fg\">)</span>\n",
              "<span class=\"ansi-red-fg\">Source:</span>        \n",
              "<span class=\"ansi-green-fg\">class</span> ProcessPoolExecutor<span class=\"ansi-blue-fg\">(</span>concurrent<span class=\"ansi-blue-fg\">.</span>futures<span class=\"ansi-blue-fg\">.</span>ProcessPoolExecutor<span class=\"ansi-blue-fg\">)</span><span class=\"ansi-blue-fg\">:</span>\n",
              "    <span class=\"ansi-blue-fg\">\"Same as Python's ProcessPoolExecutor, except can pass `max_workers==0` for serial execution\"</span>\n",
              "    <span class=\"ansi-green-fg\">def</span> __init__<span class=\"ansi-blue-fg\">(</span>self<span class=\"ansi-blue-fg\">,</span> max_workers<span class=\"ansi-blue-fg\">=</span>defaults<span class=\"ansi-blue-fg\">.</span>cpus<span class=\"ansi-blue-fg\">,</span> on_exc<span class=\"ansi-blue-fg\">=</span>print<span class=\"ansi-blue-fg\">,</span> pause<span class=\"ansi-blue-fg\">=</span><span class=\"ansi-cyan-fg\">0</span><span class=\"ansi-blue-fg\">,</span> <span class=\"ansi-blue-fg\">**</span>kwargs<span class=\"ansi-blue-fg\">)</span><span class=\"ansi-blue-fg\">:</span>\n",
              "        <span class=\"ansi-green-fg\">if</span> max_workers <span class=\"ansi-green-fg\">is</span> <span class=\"ansi-green-fg\">None</span><span class=\"ansi-blue-fg\">:</span> max_workers<span class=\"ansi-blue-fg\">=</span>defaults<span class=\"ansi-blue-fg\">.</span>cpus\n",
              "        self<span class=\"ansi-blue-fg\">.</span>not_parallel <span class=\"ansi-blue-fg\">=</span> max_workers<span class=\"ansi-blue-fg\">==</span><span class=\"ansi-cyan-fg\">0</span>\n",
              "        store_attr<span class=\"ansi-blue-fg\">(</span>self<span class=\"ansi-blue-fg\">,</span> <span class=\"ansi-blue-fg\">'on_exc,pause,max_workers'</span><span class=\"ansi-blue-fg\">)</span>\n",
              "        <span class=\"ansi-green-fg\">if</span> self<span class=\"ansi-blue-fg\">.</span>not_parallel<span class=\"ansi-blue-fg\">:</span> max_workers<span class=\"ansi-blue-fg\">=</span><span class=\"ansi-cyan-fg\">1</span>\n",
              "        super<span class=\"ansi-blue-fg\">(</span><span class=\"ansi-blue-fg\">)</span><span class=\"ansi-blue-fg\">.</span>__init__<span class=\"ansi-blue-fg\">(</span>max_workers<span class=\"ansi-blue-fg\">,</span> <span class=\"ansi-blue-fg\">**</span>kwargs<span class=\"ansi-blue-fg\">)</span>\n",
              "    <span class=\"ansi-green-fg\">def</span> map<span class=\"ansi-blue-fg\">(</span>self<span class=\"ansi-blue-fg\">,</span> f<span class=\"ansi-blue-fg\">,</span> items<span class=\"ansi-blue-fg\">,</span> <span class=\"ansi-blue-fg\">*</span>args<span class=\"ansi-blue-fg\">,</span> <span class=\"ansi-blue-fg\">**</span>kwargs<span class=\"ansi-blue-fg\">)</span><span class=\"ansi-blue-fg\">:</span>\n",
              "        self<span class=\"ansi-blue-fg\">.</span>lock <span class=\"ansi-blue-fg\">=</span> Manager<span class=\"ansi-blue-fg\">(</span><span class=\"ansi-blue-fg\">)</span><span class=\"ansi-blue-fg\">.</span>Lock<span class=\"ansi-blue-fg\">(</span><span class=\"ansi-blue-fg\">)</span>\n",
              "        g <span class=\"ansi-blue-fg\">=</span> partial<span class=\"ansi-blue-fg\">(</span>f<span class=\"ansi-blue-fg\">,</span> <span class=\"ansi-blue-fg\">*</span>args<span class=\"ansi-blue-fg\">,</span> <span class=\"ansi-blue-fg\">**</span>kwargs<span class=\"ansi-blue-fg\">)</span>\n",
              "        <span class=\"ansi-green-fg\">if</span> self<span class=\"ansi-blue-fg\">.</span>not_parallel<span class=\"ansi-blue-fg\">:</span> <span class=\"ansi-green-fg\">return</span> map<span class=\"ansi-blue-fg\">(</span>g<span class=\"ansi-blue-fg\">,</span> items<span class=\"ansi-blue-fg\">)</span>\n",
              "        <span class=\"ansi-green-fg\">try</span><span class=\"ansi-blue-fg\">:</span> <span class=\"ansi-green-fg\">return</span> super<span class=\"ansi-blue-fg\">(</span><span class=\"ansi-blue-fg\">)</span><span class=\"ansi-blue-fg\">.</span>map<span class=\"ansi-blue-fg\">(</span>partial<span class=\"ansi-blue-fg\">(</span>_call<span class=\"ansi-blue-fg\">,</span> self<span class=\"ansi-blue-fg\">.</span>lock<span class=\"ansi-blue-fg\">,</span> self<span class=\"ansi-blue-fg\">.</span>pause<span class=\"ansi-blue-fg\">,</span> self<span class=\"ansi-blue-fg\">.</span>max_workers<span class=\"ansi-blue-fg\">,</span> g<span class=\"ansi-blue-fg\">)</span><span class=\"ansi-blue-fg\">,</span> items<span class=\"ansi-blue-fg\">)</span>\n",
              "        <span class=\"ansi-green-fg\">except</span> Exception <span class=\"ansi-green-fg\">as</span> e<span class=\"ansi-blue-fg\">:</span> self<span class=\"ansi-blue-fg\">.</span>on_exc<span class=\"ansi-blue-fg\">(</span>e<span class=\"ansi-blue-fg\">)</span>\n",
              "<span class=\"ansi-red-fg\">File:</span>           /opt/conda/lib/python3.7/site-packages/fastcore/utils.py\n",
              "<span class=\"ansi-red-fg\">Type:</span>           type\n",
              "<span class=\"ansi-red-fg\">Subclasses:</span>     \n",
              "</pre>"
            ]
          }
        }
      ],
      "source": [
        "??ProcessPoolExecutor"
      ],
      "id": "f15386a9-298b-4391-a9e3-9bb2fda27d8b"
    },
    {
      "cell_type": "markdown",
      "metadata": {},
      "source": [
        "As we can see in the source code, under the hood, this is using the\n",
        "[concurrent.futures.ProcessPoolExecutor](https://docs.python.org/3/library/concurrent.futures.html#concurrent.futures.ProcessPoolExecutor)\n",
        "class from Python.\n",
        "\n",
        "Note that this class is essentially different than Python Threads, which\n",
        "is subject to the Global Interpreter Lock.\n",
        "\n",
        "The ProcessPoolExecutor class is an Executor subclass that uses a pool\n",
        "of processes to execute calls asynchronously. ProcessPoolExecutor uses\n",
        "the multiprocessing module, which allows it to side-step the Global\n",
        "Interpreter Lock but also means that only picklable objects can be\n",
        "executed and returned.\n",
        "\n",
        "# Use cases\n",
        "\n",
        "This function can be quite useful for long running tasks and you want to\n",
        "take advantage of multi-core CPUs to speed up your processing. For\n",
        "example, if you want to download a lot of images from the internet, you\n",
        "may want to use this to parallize your download jobs.\n",
        "\n",
        "If your function `f` is very fast, there can be suprising cases, here is\n",
        "an example:"
      ],
      "id": "104b2265-9b4c-4c0d-be23-cb95d26bbc8b"
    },
    {
      "cell_type": "code",
      "execution_count": 37,
      "metadata": {},
      "outputs": [],
      "source": [
        "import math\n",
        "import time\n",
        "\n",
        "def f(x):\n",
        "  return x * 2\n",
        "\n",
        "numbers = list(range(10000))"
      ],
      "id": "47a4d8cd-6865-42f2-be1b-62bde11b7139"
    },
    {
      "cell_type": "code",
      "execution_count": 39,
      "metadata": {},
      "outputs": [
        {
          "output_type": "stream",
          "name": "stdout",
          "text": [
            "\n",
            "CPU times: user 0 ns, sys: 0 ns, total: 0 ns\n",
            "Wall time: 1.24 ms"
          ]
        }
      ],
      "source": [
        "%%time\n",
        "\n",
        "list(map(f, numbers))\n",
        "print()"
      ],
      "id": "e24f6a45-8bb4-49a1-a87e-280b06246984"
    },
    {
      "cell_type": "code",
      "execution_count": 40,
      "metadata": {},
      "outputs": [
        {
          "output_type": "display_data",
          "metadata": {},
          "data": {
            "text/html": []
          }
        },
        {
          "output_type": "stream",
          "name": "stdout",
          "text": [
            "\n",
            "CPU times: user 3.96 s, sys: 940 ms, total: 4.9 s\n",
            "Wall time: 12.4 s"
          ]
        }
      ],
      "source": [
        "%%time\n",
        "\n",
        "list(parallel(f, numbers))\n",
        "print()"
      ],
      "id": "f5ea7f66-cec4-4e52-a29d-580ce7762413"
    },
    {
      "cell_type": "markdown",
      "metadata": {},
      "source": [
        "In the above example, `f` is very fast and the overhead of creating a\n",
        "lot of tasks outweigh the advantage of multi-processing. So use this\n",
        "with caution, and always take profiles."
      ],
      "id": "74d9c1f5-ceb5-4bf3-b9b3-4f2b3b15fe9d"
    }
  ],
  "nbformat": 4,
  "nbformat_minor": 5,
  "metadata": {
    "kernelspec": {
      "name": "python3",
      "display_name": "Python 3.9.6 64-bit",
      "language": "python"
    },
    "language_info": {
      "name": "python",
      "codemirror_mode": {
        "name": "ipython",
        "version": "3"
      },
      "file_extension": ".py",
      "mimetype": "text/x-python",
      "nbconvert_exporter": "python",
      "pygments_lexer": "ipython3",
      "version": "3.9.6"
    },
    "vscode": {
      "interpreter": {
        "hash": "31f2aee4e71d21fbe5cf8b01ff0e069b9275f58929596ceb00d14d90e3e16cd6"
      }
    }
  }
}